{
  "cells": [
    {
      "cell_type": "markdown",
      "metadata": {
        "id": "view-in-github",
        "colab_type": "text"
      },
      "source": [
        "<a href=\"https://colab.research.google.com/github/mishrasubhajit/introtodeeplearning2025/blob/master/MyPrograms/Lec1/DenseLayer.ipynb\" target=\"_parent\"><img src=\"https://colab.research.google.com/assets/colab-badge.svg\" alt=\"Open In Colab\"/></a>"
      ]
    },
    {
      "cell_type": "code",
      "execution_count": 2,
      "id": "79bafc9f-af94-47d6-b6ba-c144027fdcb3",
      "metadata": {
        "id": "79bafc9f-af94-47d6-b6ba-c144027fdcb3"
      },
      "outputs": [],
      "source": [
        "# Writing a Dense Layer using PyTorch\n",
        "from torch import nn\n",
        "import torch"
      ]
    },
    {
      "cell_type": "markdown",
      "source": [
        "Using `super` one can access Parent class's method."
      ],
      "metadata": {
        "id": "ZERhTzQi3jhp"
      },
      "id": "ZERhTzQi3jhp"
    },
    {
      "cell_type": "code",
      "execution_count": 3,
      "id": "fee8d993-5535-4022-bb00-b1980470d1a1",
      "metadata": {
        "id": "fee8d993-5535-4022-bb00-b1980470d1a1"
      },
      "outputs": [],
      "source": [
        "class MyDenseLayer(nn.Module):\n",
        "    def __init__(self, input_dim, output_dim):\n",
        "        super(MyDenseLayer, self).__init__()    # this calls nn.Module's __init__() constructor\n",
        "\n",
        "        # Weight and Bias initialization\n",
        "        self.W = nn.Parameter(torch.randn(input_dim, output_dim, requires_grad=True))\n",
        "        self.b = nn.Parameter(torch.randn(1, output_dim, requires_grad=True))\n",
        "\n",
        "    def forward(self, inputs):\n",
        "        # Forward Propagation\n",
        "        z = torch.matmul(inputs, self.W) + self.b\n",
        "\n",
        "        # Compose with the non-linear activation\n",
        "        output = torch.sigmoid(z)\n",
        "        return output\n"
      ]
    },
    {
      "cell_type": "markdown",
      "source": [
        "Pytorch or Tensorflow has implementation of these dense layers. The PyTorch code is as follows:\n",
        "```python\n",
        "import torch.nn as nn\n",
        "\n",
        "layer = nn.Linear(in_features=m, out_features=2)\n",
        "```"
      ],
      "metadata": {
        "id": "-BXsAKwc40Xs"
      },
      "id": "-BXsAKwc40Xs"
    }
  ],
  "metadata": {
    "kernelspec": {
      "display_name": "Python 3 (ipykernel)",
      "language": "python",
      "name": "python3"
    },
    "language_info": {
      "codemirror_mode": {
        "name": "ipython",
        "version": 3
      },
      "file_extension": ".py",
      "mimetype": "text/x-python",
      "name": "python",
      "nbconvert_exporter": "python",
      "pygments_lexer": "ipython3",
      "version": "3.12.11"
    },
    "colab": {
      "provenance": [],
      "include_colab_link": true
    }
  },
  "nbformat": 4,
  "nbformat_minor": 5
}